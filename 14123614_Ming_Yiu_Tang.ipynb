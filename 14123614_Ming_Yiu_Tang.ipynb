{
 "cells": [
  {
   "cell_type": "markdown",
   "id": "c316b2ef",
   "metadata": {},
   "source": [
    "### Introduction\n",
    "\n",
    "<p>This exercise is to build the best classifier to classifies \"Quote_Flag\" and trained under \n",
    "dataset provided as Assignment3-TrainingData.csv. The trained model will be validated using \n",
    "Assignment3-UnknownData.csv and Assignment3-Kaggle-Submission-Random-Sample.csv </p>\n",
    "\n",
    "This assignment splits into 3 parts, data mining and data processing, validating different classification models and select the best classification model.\n",
    "\n",
    "##### Data Processing and Data mining\n",
    "\n",
    "###### Data mining problem - drop Personal_Info1 and Personal_Info5\n",
    "\n",
    "    I will drop rows where Personal_Info1 and Personal_Info5 values are missing, since it null value has no means on this analytics assignment\n",
    "   \n",
    "######  Data prcessing problem - normalization Sale_Info5\n",
    "\n",
    "    Since the data figure are vary hugely, MinMaxScaler is used to smooth the data and reduce the noise.\n",
    "<br>\n",
    "\n",
    "######  Data prcessing - encoding \n",
    "Categorical features are being encoded, as input of classifier. Field_Info1, Field_Info4, Coverage_Info3, Sales_Info4, Personal_Info1, Personal_Info3, Property_Info1, Property_Info3, Property_Info5, Geographic_Info4 and Geographic_Info5 are \n",
    "\n",
    "<br>\n",
    "\n",
    "##### Cross Validation of different models and visualizing result \n",
    "\n",
    "Cross Validation for 3 diferent models - Decision Tree, Randomforest and kNN (Split for 10 folds)\n",
    "    \n",
    "    The cross validation will validate 3 models to compare with three models. The original plan was to include Support Vector Classification, yet it has a serious performance issue when dealing with too many features.\n",
    "<br>\n",
    "\n",
    "###### Models and parameter adjustment\n",
    "\n",
    "Decision Tree \n",
    "    \n",
    "    Decision Tree will be testing with 10 folds, and produce a score table.\n",
    "    \n",
    "Random Forest Classification (RFC)\n",
    "\n",
    "    RFC will list 30 trees, 40 trees, 50 trees to compare which is the best number of trees\n",
    "\n",
    "k-nearest neighbors algorithm (kNN )\n",
    "    \n",
    "    First of all, Elbow method is being used for seeking the optimum number of neighbors. The Comparsion will be shown as increased number of neighbors.\n",
    "\n",
    "Support Vector Classification (SVC)\n",
    "    \n",
    "    Due to performance issue, SVC have only applied to 1 fold of training and testing for the score. \n",
    "\n",
    "###### Display  and visulisaize data and finding \n",
    "    \n",
    "    THe First three models, Decision Tree, Random Forest Classification and k-nearest neighbours, undergoes a cross validation of 10 folds and form a table to display the scores in different folds. Heatmap is going to be shown for visulising the highest to lowest score in colour.\n",
    "    "
   ]
  },
  {
   "cell_type": "code",
   "execution_count": 1,
   "id": "2714bc84",
   "metadata": {},
   "outputs": [],
   "source": [
    "import pandas as pd\n",
    "import numpy as np"
   ]
  },
  {
   "cell_type": "code",
   "execution_count": 2,
   "id": "165f0c55",
   "metadata": {},
   "outputs": [],
   "source": [
    "PATH = '~/local_workplace/schworks/32130_funDataAna/assignment/a3_data_mining/Assignment3-TrainingData.csv'\n",
    "UNKNOWN_PATH = '~/local_workplace/schworks/32130_funDataAna/assignment/a3_data_mining/Assignment3-UnknownData.csv'\n",
    "RANDOM_PATH = '~/local_workplace/schworks/32130_funDataAna/assignment/a3_data_mining/Assignment3-Kaggle-Submission-Random-Sample.csv'\n",
    "\n",
    "df = pd.read_csv(PATH)\n",
    "X_validate_set = pd.read_csv(UNKNOWN_PATH).drop(columns=['Quote_Id', 'Quote_Date'])\n",
    "y_validate_set = pd.read_csv(RANDOM_PATH)"
   ]
  },
  {
   "cell_type": "markdown",
   "id": "3d6fe532",
   "metadata": {},
   "source": [
    "#### Data propcessing\n",
    "1. Drop empty rows of \n",
    "    a. Personal_Info1\n",
    "    b. Personal_Info5\n",
    "    \n",
    "2. Processing Sales_info5 \n",
    "        Since the data figure are vary hugely, to increase predictiability with normalized data\n",
    "3. Label the features\n",
    "4. Drop unnecessary Columns Quote_Flag - target, Quote_Date.\n",
    "5. Drop missing value rows, since missing value doesn't provide information"
   ]
  },
  {
   "cell_type": "code",
   "execution_count": 3,
   "id": "44f9e6ff",
   "metadata": {},
   "outputs": [],
   "source": [
    "from sklearn.preprocessing import MinMaxScaler\n",
    "from sklearn.preprocessing import LabelEncoder"
   ]
  },
  {
   "cell_type": "code",
   "execution_count": 4,
   "id": "e675ab4f",
   "metadata": {},
   "outputs": [],
   "source": [
    "scaler = MinMaxScaler()\n",
    "\n",
    "sales_info5 = df['Sales_info5'].astype(np.float64).values.reshape(-1,1)\n",
    "\n",
    "df['Sales_info5'] = scaler.fit_transform(sales_info5)\n",
    "\n",
    "df = df.dropna(subset=['Personal_info5', 'Personal_info1'])\n",
    "# Drop irrelvant Column for Dtree CLassifier\n",
    "df = df.drop(columns=['Quote_Id','Quote_Date'])\n",
    "X = df.drop('Quote_Flag', axis='columns')\n",
    "y = df['Quote_Flag']\n",
    "# inputs.columns"
   ]
  },
  {
   "cell_type": "code",
   "execution_count": 5,
   "id": "68640479",
   "metadata": {},
   "outputs": [],
   "source": [
    "label_Field1 = LabelEncoder()\n",
    "label_Field4 = LabelEncoder()\n",
    "label_Coverage3 = LabelEncoder()\n",
    "label_Sales4 = LabelEncoder()\n",
    "label_Personal1 = LabelEncoder()\n",
    "label_Personal3 = LabelEncoder()\n",
    "label_Property1 = LabelEncoder()\n",
    "label_Property3 = LabelEncoder()\n",
    "label_Property5 = LabelEncoder()\n",
    "label_Geographic4 = LabelEncoder()\n",
    "label_Geographic5 = LabelEncoder()\n",
    "\n",
    "X['Field1_n'] = label_Field1.fit_transform(X['Field_info1'])\n",
    "X['Field3_n'] = label_Field1.fit_transform(X['Field_info3'])\n",
    "X['Field4_n'] = label_Field4.fit_transform(X['Field_info4'])\n",
    "X['Coverage3_n'] = label_Coverage3.fit_transform(X['Coverage_info3'])\n",
    "X['Sales4_n'] = label_Sales4.fit_transform(X['Sales_info4'])\n",
    "X['Personal1_n'] = label_Personal1.fit_transform(X['Personal_info1'])\n",
    "X['Personal3_n'] = label_Personal3.fit_transform(X['Personal_info3'])\n",
    "X['Property1_n'] = label_Property1.fit_transform(X['Property_info1'])\n",
    "X['Property3_n'] = label_Property3.fit_transform(X['Property_info3'])\n",
    "X['Property5_n'] = label_Property5.fit_transform(X['Property_info5'])\n",
    "X['Geographic4_n'] = label_Geographic4.fit_transform(X['Geographic_info4'])\n",
    "X['Geographic5_n'] = label_Geographic5.fit_transform(X['Geographic_info5'])\n",
    "\n",
    "X = X.drop([\n",
    "    'Field_info1',\n",
    "    'Field_info3',\n",
    "    'Field_info4',\n",
    "    'Coverage_info3',\n",
    "    'Sales_info4',\n",
    "    'Personal_info1',\n",
    "    'Personal_info3',\n",
    "    'Property_info1',\n",
    "    'Property_info3',\n",
    "    'Property_info5',\n",
    "    'Geographic_info4',\n",
    "    'Geographic_info5'\n",
    "], axis='columns')"
   ]
  },
  {
   "cell_type": "markdown",
   "id": "d3040584",
   "metadata": {},
   "source": [
    "#### K-Fold cross validation for 3 models \n",
    "> Stratified k-fold with 10 folds <br>\n",
    "> > Stratified K-fold ensure each fold of dataset has the same proportion of observations with a given label. "
   ]
  },
  {
   "cell_type": "code",
   "execution_count": 6,
   "id": "819a276e",
   "metadata": {},
   "outputs": [],
   "source": [
    "from sklearn.model_selection import StratifiedKFold\n",
    "from sklearn.model_selection import cross_val_score\n",
    "from sklearn import tree\n",
    "from sklearn.ensemble import RandomForestClassifier\n",
    "from sklearn.svm import SVC\n",
    "from sklearn.neighbors import KNeighborsClassifier"
   ]
  },
  {
   "cell_type": "code",
   "execution_count": 7,
   "id": "ef7de6a5",
   "metadata": {},
   "outputs": [],
   "source": [
    "folds = StratifiedKFold(n_splits=10)"
   ]
  },
  {
   "cell_type": "code",
   "execution_count": 8,
   "id": "624171f9",
   "metadata": {},
   "outputs": [],
   "source": [
    "trees_kfold = cross_val_score(tree.DecisionTreeClassifier(criterion='entropy'), X, y, cv=folds)"
   ]
  },
  {
   "cell_type": "code",
   "execution_count": 9,
   "id": "5b16adb0",
   "metadata": {},
   "outputs": [],
   "source": [
    "rfc30_kfold = cross_val_score(RandomForestClassifier(oob_score=True, n_estimators=30, max_features=\"auto\"), X, y, cv=folds)\n",
    "rfc40_kfold = cross_val_score(RandomForestClassifier(oob_score=True, n_estimators=40, max_features=\"auto\"), X, y, cv=folds)\n",
    "rfc50_kfold = cross_val_score(RandomForestClassifier(oob_score=True, n_estimators=50, max_features=\"auto\"), X, y, cv=folds)\n",
    "rfc60_kfold = cross_val_score(RandomForestClassifier(oob_score=True, n_estimators=60, max_features=\"auto\"), X, y, cv=folds)"
   ]
  },
  {
   "cell_type": "code",
   "execution_count": 10,
   "id": "60f4b48d",
   "metadata": {},
   "outputs": [],
   "source": [
    "from sklearn.model_selection import train_test_split\n",
    "from sklearn.neighbors import KNeighborsClassifier\n",
    "import matplotlib.pyplot as plt\n",
    "import seaborn as sns"
   ]
  },
  {
   "cell_type": "code",
   "execution_count": 12,
   "id": "d93afe59",
   "metadata": {},
   "outputs": [],
   "source": [
    "X_train, X_test, y_train, y_test = train_test_split(X, y, test_size=0.33)\n",
    "\n",
    "error_rate = []\n",
    "for i in range(1, 40):\n",
    "    knn = KNeighborsClassifier(n_neighbors=i)\n",
    "    knn.fit(X_train,y_train)\n",
    "    pred_i = knn.predict(X_test)\n",
    "    error_rate.append(np.mean(pred_i != y_test))\n"
   ]
  },
  {
   "cell_type": "markdown",
   "id": "a92d312c",
   "metadata": {},
   "source": [
    "#### Visualize Elbow method for Number of Neighbors\n",
    "The Elbow method is use for picking the elbow point of the chart, which is around 2 to 3 number of neighbors."
   ]
  },
  {
   "cell_type": "code",
   "execution_count": 13,
   "id": "c285b9a8",
   "metadata": {},
   "outputs": [
    {
     "data": {
      "text/plain": [
       "Text(0, 0.5, 'Error Rate')"
      ]
     },
     "execution_count": 13,
     "metadata": {},
     "output_type": "execute_result"
    },
    {
     "data": {
      "image/png": "[encoded data removed]",
      "text/plain": [
       "<Figure size 1440x432 with 1 Axes>"
      ]
     },
     "metadata": {
      "needs_background": "light"
     },
     "output_type": "display_data"
    }
   ],
   "source": [
    "plt.figure(figsize=(20,6))\n",
    "plt.plot(range(1,40),error_rate,color='blue', linestyle='dashed', marker='o',\n",
    "         markerfacecolor='red', markersize=10)\n",
    "plt.title('Error Rate vs. K Value')\n",
    "plt.xlabel('K')\n",
    "plt.ylabel('Error Rate')\n",
    "# svc10_kfold"
   ]
  },
  {
   "cell_type": "code",
   "execution_count": 14,
   "id": "e0248c9e",
   "metadata": {},
   "outputs": [],
   "source": [
    "kNN2_kfold = cross_val_score(KNeighborsClassifier(n_neighbors = 2), X, y, cv=folds)\n",
    "kNN4_kfold = cross_val_score(KNeighborsClassifier(n_neighbors = 4), X, y, cv=folds)"
   ]
  },
  {
   "cell_type": "markdown",
   "id": "26fcc2cd",
   "metadata": {},
   "source": [
    "#### Cross Validation results\n",
    "The Table has 7 columns, which are Decision Tree using entropy, Random Forest that has 30, 40, 50 and 60 trees, and kNN has 2 neighbours and 4 neighbours. The high scores are concentrated in random forest tree classifications."
   ]
  },
  {
   "cell_type": "code",
   "execution_count": 15,
   "id": "22e5a086",
   "metadata": {},
   "outputs": [
    {
     "data": {
      "text/html": [
       "<div>\n",
       "<style scoped>\n",
       "    .dataframe tbody tr th:only-of-type {\n",
       "        vertical-align: middle;\n",
       "    }\n",
       "\n",
       "    .dataframe tbody tr th {\n",
       "        vertical-align: top;\n",
       "    }\n",
       "\n",
       "    .dataframe thead th {\n",
       "        text-align: right;\n",
       "    }\n",
       "</style>\n",
       "<table border=\"1\" class=\"dataframe\">\n",
       "  <thead>\n",
       "    <tr style=\"text-align: right;\">\n",
       "      <th></th>\n",
       "      <th>Decision_Tree</th>\n",
       "      <th>Random_Forest_30_Trees</th>\n",
       "      <th>Random_Forest_40_Trees</th>\n",
       "      <th>Random_Forest_50_Trees</th>\n",
       "      <th>Random_Forest_60_Trees</th>\n",
       "      <th>kNN_with_2_Neigbour</th>\n",
       "      <th>kNN_with_4_Neigbour</th>\n",
       "    </tr>\n",
       "  </thead>\n",
       "  <tbody>\n",
       "    <tr>\n",
       "      <th>0</th>\n",
       "      <td>0.810250</td>\n",
       "      <td>0.853874</td>\n",
       "      <td>0.848383</td>\n",
       "      <td>0.853874</td>\n",
       "      <td>0.853874</td>\n",
       "      <td>0.817572</td>\n",
       "      <td>0.810860</td>\n",
       "    </tr>\n",
       "    <tr>\n",
       "      <th>1</th>\n",
       "      <td>0.817821</td>\n",
       "      <td>0.861153</td>\n",
       "      <td>0.855661</td>\n",
       "      <td>0.859628</td>\n",
       "      <td>0.858407</td>\n",
       "      <td>0.822399</td>\n",
       "      <td>0.823924</td>\n",
       "    </tr>\n",
       "    <tr>\n",
       "      <th>2</th>\n",
       "      <td>0.821788</td>\n",
       "      <td>0.856271</td>\n",
       "      <td>0.859017</td>\n",
       "      <td>0.857492</td>\n",
       "      <td>0.860543</td>\n",
       "      <td>0.822704</td>\n",
       "      <td>0.820873</td>\n",
       "    </tr>\n",
       "    <tr>\n",
       "      <th>3</th>\n",
       "      <td>0.809887</td>\n",
       "      <td>0.854440</td>\n",
       "      <td>0.850168</td>\n",
       "      <td>0.860848</td>\n",
       "      <td>0.859017</td>\n",
       "      <td>0.816295</td>\n",
       "      <td>0.816906</td>\n",
       "    </tr>\n",
       "    <tr>\n",
       "      <th>4</th>\n",
       "      <td>0.820568</td>\n",
       "      <td>0.845896</td>\n",
       "      <td>0.849558</td>\n",
       "      <td>0.846506</td>\n",
       "      <td>0.849558</td>\n",
       "      <td>0.811413</td>\n",
       "      <td>0.805615</td>\n",
       "    </tr>\n",
       "    <tr>\n",
       "      <th>5</th>\n",
       "      <td>0.812023</td>\n",
       "      <td>0.850473</td>\n",
       "      <td>0.849252</td>\n",
       "      <td>0.846506</td>\n",
       "      <td>0.853219</td>\n",
       "      <td>0.820262</td>\n",
       "      <td>0.824535</td>\n",
       "    </tr>\n",
       "    <tr>\n",
       "      <th>6</th>\n",
       "      <td>0.822399</td>\n",
       "      <td>0.864510</td>\n",
       "      <td>0.863595</td>\n",
       "      <td>0.861153</td>\n",
       "      <td>0.858407</td>\n",
       "      <td>0.820873</td>\n",
       "      <td>0.820568</td>\n",
       "    </tr>\n",
       "    <tr>\n",
       "      <th>7</th>\n",
       "      <td>0.837046</td>\n",
       "      <td>0.861764</td>\n",
       "      <td>0.864815</td>\n",
       "      <td>0.862679</td>\n",
       "      <td>0.860238</td>\n",
       "      <td>0.834605</td>\n",
       "      <td>0.827891</td>\n",
       "    </tr>\n",
       "    <tr>\n",
       "      <th>8</th>\n",
       "      <td>0.837046</td>\n",
       "      <td>0.865121</td>\n",
       "      <td>0.866341</td>\n",
       "      <td>0.868172</td>\n",
       "      <td>0.870003</td>\n",
       "      <td>0.827281</td>\n",
       "      <td>0.821788</td>\n",
       "    </tr>\n",
       "    <tr>\n",
       "      <th>9</th>\n",
       "      <td>0.840403</td>\n",
       "      <td>0.874580</td>\n",
       "      <td>0.873055</td>\n",
       "      <td>0.870308</td>\n",
       "      <td>0.875191</td>\n",
       "      <td>0.826976</td>\n",
       "      <td>0.824535</td>\n",
       "    </tr>\n",
       "  </tbody>\n",
       "</table>\n",
       "</div>"
      ],
      "text/plain": [
       "   Decision_Tree  Random_Forest_30_Trees  Random_Forest_40_Trees  \\\n",
       "0       0.810250                0.853874                0.848383   \n",
       "1       0.817821                0.861153                0.855661   \n",
       "2       0.821788                0.856271                0.859017   \n",
       "3       0.809887                0.854440                0.850168   \n",
       "4       0.820568                0.845896                0.849558   \n",
       "5       0.812023                0.850473                0.849252   \n",
       "6       0.822399                0.864510                0.863595   \n",
       "7       0.837046                0.861764                0.864815   \n",
       "8       0.837046                0.865121                0.866341   \n",
       "9       0.840403                0.874580                0.873055   \n",
       "\n",
       "   Random_Forest_50_Trees  Random_Forest_60_Trees  kNN_with_2_Neigbour  \\\n",
       "0                0.853874                0.853874             0.817572   \n",
       "1                0.859628                0.858407             0.822399   \n",
       "2                0.857492                0.860543             0.822704   \n",
       "3                0.860848                0.859017             0.816295   \n",
       "4                0.846506                0.849558             0.811413   \n",
       "5                0.846506                0.853219             0.820262   \n",
       "6                0.861153                0.858407             0.820873   \n",
       "7                0.862679                0.860238             0.834605   \n",
       "8                0.868172                0.870003             0.827281   \n",
       "9                0.870308                0.875191             0.826976   \n",
       "\n",
       "   kNN_with_4_Neigbour  \n",
       "0             0.810860  \n",
       "1             0.823924  \n",
       "2             0.820873  \n",
       "3             0.816906  \n",
       "4             0.805615  \n",
       "5             0.824535  \n",
       "6             0.820568  \n",
       "7             0.827891  \n",
       "8             0.821788  \n",
       "9             0.824535  "
      ]
     },
     "execution_count": 15,
     "metadata": {},
     "output_type": "execute_result"
    }
   ],
   "source": [
    "model_data = {'Decision_Tree' : trees_kfold,\n",
    "             'Random_Forest_30_Trees' : rfc30_kfold,\n",
    "             'Random_Forest_40_Trees' : rfc40_kfold,\n",
    "             'Random_Forest_50_Trees' : rfc50_kfold,\n",
    "             'Random_Forest_60_Trees' : rfc60_kfold,\n",
    "             'kNN_with_2_Neigbour' : kNN2_kfold,\n",
    "             'kNN_with_4_Neigbour' : kNN4_kfold}\n",
    "df= pd.DataFrame(model_data)\n",
    "df"
   ]
  },
  {
   "cell_type": "markdown",
   "id": "8b1365a8",
   "metadata": {},
   "source": [
    "#### Visualising Score Table by Heat map\n",
    "The heatmap is to visualise the result of cross validation scores. The bright area means that classification has higher score. Most of the high score classifications are located in Random forest classification columns."
   ]
  },
  {
   "cell_type": "code",
   "execution_count": 16,
   "id": "6914389e",
   "metadata": {},
   "outputs": [
    {
     "data": {
      "image/png": "[encoded data removed]",
      "text/plain": [
       "<Figure size 864x576 with 2 Axes>"
      ]
     },
     "metadata": {
      "needs_background": "light"
     },
     "output_type": "display_data"
    }
   ],
   "source": [
    "fig_dims = (12, 8)\n",
    "fig, ax = plt.subplots(figsize=fig_dims)\n",
    "heatmap = sns.heatmap(df,ax=ax)\n",
    "heatmap.set_xticklabels(heatmap.get_xticklabels(), rotation=45)\n",
    "# , yticklabels=5\n",
    "plt.show()"
   ]
  },
  {
   "cell_type": "markdown",
   "id": "c48f2582",
   "metadata": {},
   "source": [
    "##### Support Vector Classification\n",
    "Since Regularization will affect SVC Model's tolerance of prediction error, it is, however, to reduce overfit to the training model\n"
   ]
  },
  {
   "cell_type": "markdown",
   "id": "825ee1c4",
   "metadata": {},
   "source": [
    "#### Support Vector Classification\n",
    "> The regularization parameter (lambda) serves as a degree of importance that is given to misclassifications. High regularization means higher tolerance of classification as the parameter of C. It could reduce the chance of over-fitting.\n"
   ]
  },
  {
   "cell_type": "code",
   "execution_count": 17,
   "id": "e7450445",
   "metadata": {},
   "outputs": [],
   "source": [
    "from sklearn.svm import SVC"
   ]
  },
  {
   "cell_type": "code",
   "execution_count": 18,
   "id": "391a1f3f",
   "metadata": {},
   "outputs": [],
   "source": [
    "svc_5 = SVC(C=5)\n",
    "svc_5.fit(X_train, y_train)\n",
    "svc_5_score = svc_5.score(X_test, y_test)\n",
    "svc_5_pred = svc_5.decision_function(X_test)"
   ]
  },
  {
   "cell_type": "code",
   "execution_count": 19,
   "id": "341bfc59",
   "metadata": {},
   "outputs": [],
   "source": [
    "svc_10 = SVC(C=10)\n",
    "svc_10.fit(X_train, y_train)\n",
    "svc_10_score = svc_10.score(X_test, y_test)\n",
    "svc_10_pred = svc_10.predict(X_test)"
   ]
  },
  {
   "cell_type": "code",
   "execution_count": 20,
   "id": "b63e60af",
   "metadata": {},
   "outputs": [],
   "source": [
    "svc_15 = SVC(C=15)\n",
    "svc_15.fit(X_train, y_train)\n",
    "svc_15_score = svc_15.score(X_test, y_test)\n",
    "svc_15_pred = svc_15.predict(X_test)"
   ]
  },
  {
   "cell_type": "code",
   "execution_count": 21,
   "id": "10375dd3",
   "metadata": {},
   "outputs": [],
   "source": [
    "svc_20 = SVC(C=20)\n",
    "svc_20.fit(X_train, y_train)\n",
    "svc_20_score = svc_20.score(X_test, y_test)\n",
    "svc_20_pred = svc_20.predict(X_test)"
   ]
  },
  {
   "cell_type": "code",
   "execution_count": 22,
   "id": "ceb43e75",
   "metadata": {},
   "outputs": [],
   "source": [
    "svc_25 = SVC(C=25)\n",
    "svc_25.fit(X_train, y_train)\n",
    "svc_25_score = svc_25.score(X_test, y_test)\n",
    "svc_25_pred = svc_25.predict(X_test)"
   ]
  },
  {
   "cell_type": "code",
   "execution_count": 23,
   "id": "503f5c8d",
   "metadata": {},
   "outputs": [],
   "source": [
    "svc_30 = SVC(C=30)\n",
    "svc_30.fit(X_train, y_train)\n",
    "svc_30_score = svc_30.score(X_test, y_test)\n",
    "svc_30_pred = svc_30.predict(X_test)"
   ]
  },
  {
   "cell_type": "code",
   "execution_count": 35,
   "id": "71f98456",
   "metadata": {},
   "outputs": [],
   "source": [
    "svc_C_Comparsion = [svc_5_score,svc_10_score,svc_15_score,svc_20_score,svc_25_score,svc_30_score]"
   ]
  },
  {
   "cell_type": "markdown",
   "id": "41941e2e",
   "metadata": {},
   "source": [
    "#### Evaluation on Support Vector Classification\n",
    "\n",
    "In general, Support Vector Classifications score are lower than 83, alike of decision tree and kNN."
   ]
  },
  {
   "cell_type": "code",
   "execution_count": 37,
   "id": "3f9c7cf5",
   "metadata": {},
   "outputs": [
    {
     "data": {
      "text/html": [
       "<div>\n",
       "<style scoped>\n",
       "    .dataframe tbody tr th:only-of-type {\n",
       "        vertical-align: middle;\n",
       "    }\n",
       "\n",
       "    .dataframe tbody tr th {\n",
       "        vertical-align: top;\n",
       "    }\n",
       "\n",
       "    .dataframe thead th {\n",
       "        text-align: right;\n",
       "    }\n",
       "</style>\n",
       "<table border=\"1\" class=\"dataframe\">\n",
       "  <thead>\n",
       "    <tr style=\"text-align: right;\">\n",
       "      <th></th>\n",
       "      <th>SVC regularization Level</th>\n",
       "      <th>Scores</th>\n",
       "    </tr>\n",
       "  </thead>\n",
       "  <tbody>\n",
       "    <tr>\n",
       "      <th>0</th>\n",
       "      <td>5</td>\n",
       "      <td>0.819787</td>\n",
       "    </tr>\n",
       "    <tr>\n",
       "      <th>1</th>\n",
       "      <td>10</td>\n",
       "      <td>0.823763</td>\n",
       "    </tr>\n",
       "    <tr>\n",
       "      <th>2</th>\n",
       "      <td>15</td>\n",
       "      <td>0.825335</td>\n",
       "    </tr>\n",
       "    <tr>\n",
       "      <th>3</th>\n",
       "      <td>20</td>\n",
       "      <td>0.826167</td>\n",
       "    </tr>\n",
       "    <tr>\n",
       "      <th>4</th>\n",
       "      <td>25</td>\n",
       "      <td>0.827277</td>\n",
       "    </tr>\n",
       "    <tr>\n",
       "      <th>5</th>\n",
       "      <td>30</td>\n",
       "      <td>0.828664</td>\n",
       "    </tr>\n",
       "  </tbody>\n",
       "</table>\n",
       "</div>"
      ],
      "text/plain": [
       "   SVC regularization Level    Scores\n",
       "0                         5  0.819787\n",
       "1                        10  0.823763\n",
       "2                        15  0.825335\n",
       "3                        20  0.826167\n",
       "4                        25  0.827277\n",
       "5                        30  0.828664"
      ]
     },
     "execution_count": 37,
     "metadata": {},
     "output_type": "execute_result"
    }
   ],
   "source": [
    "data = {\n",
    "    'SVC regularization Level' : [5, 10, 15, 20, 25, 30],\n",
    "    'Scores' : svc_C_Comparsion\n",
    "}\n",
    "df_svc_scores = pd.DataFrame(data)\n",
    "df_svc_scores"
   ]
  },
  {
   "cell_type": "markdown",
   "id": "46a1aec3",
   "metadata": {},
   "source": [
    "##### Evaluating Models using ROC and AUC\n",
    "\n",
    "An excellent model has AUC near to the 1 which means it has a good measure of separability. A poor model has AUC near to the 0 which means it has the worst measure of separability. The model will not be useful when AUC is 0.5. \n",
    "\n",
    "<br>\n",
    "\n",
    "Random Forest classification has slight better score than Decision Tree, which is 0.706 in auc. In contrast, kNN and SVC are below 0.6 in auc."
   ]
  },
  {
   "cell_type": "code",
   "execution_count": 26,
   "id": "99457e38",
   "metadata": {},
   "outputs": [],
   "source": [
    "from sklearn.metrics import roc_curve, auc"
   ]
  },
  {
   "cell_type": "code",
   "execution_count": 27,
   "id": "7bfe5802",
   "metadata": {},
   "outputs": [
    {
     "name": "stdout",
     "output_type": "stream",
     "text": [
      "oob score 0.8491528511568591\n"
     ]
    }
   ],
   "source": [
    "# X_train, X_test, y_train, y_test = train_test_split(X, y, test_size=0.33)\n",
    "dt = tree.DecisionTreeClassifier(criterion='entropy')\n",
    "dt.fit(X_train, y_train)\n",
    "dt_pred = dt.predict(X_test)\n",
    "\n",
    "rfc = RandomForestClassifier(oob_score=True, n_estimators=50, max_features=\"auto\")\n",
    "rfc.fit(X_train, y_train)\n",
    "rfc_pred = rfc.predict(X_test)\n",
    "oob_score = rfc.oob_score_\n",
    "print(f'oob score {oob_score}')\n",
    "\n",
    "kNN = KNeighborsClassifier(n_neighbors = 2)\n",
    "kNN.fit(X_train, y_train)\n",
    "kNN_pred = kNN.predict(X_test)"
   ]
  },
  {
   "cell_type": "code",
   "execution_count": 28,
   "id": "a4df8986",
   "metadata": {},
   "outputs": [],
   "source": [
    "dt_fpr, dt_tpr, threshold = roc_curve(y_test, dt_pred)\n",
    "auc_dt = auc(dt_fpr, dt_tpr)\n",
    "\n",
    "rfc_fpr, rfc_tpr, threshold = roc_curve(y_test, rfc_pred)\n",
    "auc_rfc = auc(rfc_fpr, rfc_tpr)\n",
    "\n",
    "kNN_fpr, kNN_tpr, threshold = roc_curve(y_test, kNN_pred)\n",
    "auc_kNN = auc(kNN_fpr, kNN_tpr)\n",
    "\n",
    "svc_10_fpr, svc_10_tpr, threshold = roc_curve(y_test, svc_10_pred)\n",
    "auc_svc_10 = auc(svc_10_fpr, svc_10_tpr)\n"
   ]
  },
  {
   "cell_type": "code",
   "execution_count": 29,
   "id": "281cd471",
   "metadata": {},
   "outputs": [
    {
     "data": {
      "image/png": "[encoded data removed]",
      "text/plain": [
       "<Figure size 500x500 with 1 Axes>"
      ]
     },
     "metadata": {
      "needs_background": "light"
     },
     "output_type": "display_data"
    }
   ],
   "source": [
    "plt.figure(figsize=(5,5), dpi=100)\n",
    "\n",
    "plt.plot(dt_fpr, dt_tpr, linestyle='-', label='DecisionTree (auc =%0.3f)' % auc_dt)\n",
    "plt.plot(rfc_fpr, rfc_tpr, linestyle= (0, (1, 1)), label='RFC (auc =%0.3f)' % auc_rfc)\n",
    "plt.plot(kNN_fpr, kNN_tpr, linestyle='--', label='kNN (auc =%0.3f)' % auc_kNN)\n",
    "plt.plot(svc_10_fpr, svc_10_tpr, linestyle='-.', label='SVC (auc =%0.3f)' % auc_svc_10)\n",
    "\n",
    "# densely dashdotted\n",
    "plt.xlabel('False Positive Rate --> ')\n",
    "plt.ylabel('True Positive Rate --> ')\n",
    "\n",
    "plt.legend()\n",
    "\n",
    "plt.show()"
   ]
  },
  {
   "cell_type": "markdown",
   "id": "b3108b80",
   "metadata": {},
   "source": [
    "#### Selecting a Classification \n",
    "\n",
    "Since Random Forest Classification has better scores in different aspect than other models, the predictability and Area Under The Curve, thus, Random Forest Classification is being selected for the classifier"
   ]
  },
  {
   "cell_type": "code",
   "execution_count": 30,
   "id": "dfb6af69",
   "metadata": {},
   "outputs": [],
   "source": [
    "label_Field1_v = LabelEncoder()\n",
    "label_Field3_v = LabelEncoder()\n",
    "label_Field4_v = LabelEncoder()\n",
    "label_Coverage3_v = LabelEncoder()\n",
    "label_Sales4_v = LabelEncoder()\n",
    "label_Personal1_v = LabelEncoder()\n",
    "label_Personal3_v = LabelEncoder()\n",
    "label_Property1_v = LabelEncoder()\n",
    "label_Property3_v = LabelEncoder()\n",
    "label_Property5_v = LabelEncoder()\n",
    "label_Geographic4_v = LabelEncoder()\n",
    "label_Geographic5_v = LabelEncoder()\n",
    "\n",
    "X_validate_set['Field1_n'] = label_Field1_v.fit_transform(X_validate_set['Field_info1'])\n",
    "X_validate_set['Field3_n'] = label_Field3_v.fit_transform(X_validate_set['Field_info3'])\n",
    "X_validate_set['Field4_n'] = label_Field4_v.fit_transform(X_validate_set['Field_info4'])\n",
    "X_validate_set['Coverage3_n'] = label_Coverage3_v.fit_transform(X_validate_set['Coverage_info3'])\n",
    "X_validate_set['Sales4_n'] = label_Sales4_v.fit_transform(X_validate_set['Sales_info4'])\n",
    "X_validate_set['Personal1_n'] = label_Personal1_v.fit_transform(X_validate_set['Personal_info1'])\n",
    "X_validate_set['Personal3_n'] = label_Personal3_v.fit_transform(X_validate_set['Personal_info3'])\n",
    "X_validate_set['Property1_n'] = label_Property1_v.fit_transform(X_validate_set['Property_info1'])\n",
    "X_validate_set['Property3_n'] = label_Property3_v.fit_transform(X_validate_set['Property_info3'])\n",
    "X_validate_set['Property5_n'] = label_Property5_v.fit_transform(X_validate_set['Property_info5'])\n",
    "X_validate_set['Geographic4_n'] = label_Geographic4_v.fit_transform(X_validate_set['Geographic_info4'])\n",
    "X_validate_set['Geographic5_n'] = label_Geographic5_v.fit_transform(X_validate_set['Geographic_info5'])\n",
    "\n",
    "X_validate_set = X_validate_set.drop([\n",
    "    'Field_info1',\n",
    "    'Field_info3',\n",
    "    'Field_info4',\n",
    "    'Coverage_info3',\n",
    "    'Sales_info4',\n",
    "    'Personal_info1',\n",
    "    'Personal_info3',\n",
    "    'Property_info1',\n",
    "    'Property_info3',\n",
    "    'Property_info5',\n",
    "    'Geographic_info4',\n",
    "    'Geographic_info5'\n",
    "], axis='columns')\n"
   ]
  },
  {
   "cell_type": "code",
   "execution_count": 31,
   "id": "d0a3cb38",
   "metadata": {},
   "outputs": [],
   "source": [
    "s_info5 = X_validate_set['Sales_info5'].astype(np.float64).values.reshape(-1,1)\n",
    "X_validate_set['Sales_info5'] = scaler.fit_transform(s_info5)\n",
    "X_validate_set = X_validate_set.fillna(0)"
   ]
  },
  {
   "cell_type": "code",
   "execution_count": 38,
   "id": "ed94e314",
   "metadata": {},
   "outputs": [],
   "source": [
    "from sklearn.metrics import confusion_matrix, plot_confusion_matrix, classification_report"
   ]
  },
  {
   "cell_type": "code",
   "execution_count": 39,
   "id": "a457ec28",
   "metadata": {},
   "outputs": [],
   "source": [
    "unknown_set_pred = rfc.predict(X_validate_set)"
   ]
  },
  {
   "cell_type": "code",
   "execution_count": 40,
   "id": "825faee5",
   "metadata": {},
   "outputs": [
    {
     "data": {
      "text/plain": [
       "0.7108410632535174"
      ]
     },
     "execution_count": 40,
     "metadata": {},
     "output_type": "execute_result"
    }
   ],
   "source": [
    "rfc.score(X_validate_set, y_validate_set.Quote_Flag)"
   ]
  },
  {
   "cell_type": "code",
   "execution_count": 43,
   "id": "aa188a03",
   "metadata": {},
   "outputs": [
    {
     "name": "stdout",
     "output_type": "stream",
     "text": [
      "              precision    recall  f1-score   support\n",
      "\n",
      "           0       0.81      0.84      0.82     33820\n",
      "           1       0.19      0.16      0.17      7901\n",
      "\n",
      "    accuracy                           0.71     41721\n",
      "   macro avg       0.50      0.50      0.50     41721\n",
      "weighted avg       0.69      0.71      0.70     41721\n",
      "\n"
     ]
    }
   ],
   "source": [
    "print(classification_report(y_validate_set.Quote_Flag, unknown_set_pred))"
   ]
  },
  {
   "cell_type": "markdown",
   "id": "aedfa5d8",
   "metadata": {},
   "source": [
    "#### confusion_matrix\n",
    "\n",
    "The True positive prediction is 28404 "
   ]
  },
  {
   "cell_type": "code",
   "execution_count": 44,
   "id": "245238d0",
   "metadata": {},
   "outputs": [
    {
     "data": {
      "text/plain": [
       "<sklearn.metrics._plot.confusion_matrix.ConfusionMatrixDisplay at 0x7f4ab4803550>"
      ]
     },
     "execution_count": 44,
     "metadata": {},
     "output_type": "execute_result"
    },
    {
     "data": {
      "image/png": "[encoded data removed]",
      "text/plain": [
       "<Figure size 432x288 with 2 Axes>"
      ]
     },
     "metadata": {
      "needs_background": "light"
     },
     "output_type": "display_data"
    }
   ],
   "source": [
    "plot_confusion_matrix(rfc, X_validate_set, y_validate_set.Quote_Flag)"
   ]
  },
  {
   "cell_type": "markdown",
   "id": "e55a6fd4",
   "metadata": {},
   "source": [
    "#### Reflection \n",
    "My first attempt of data mining was to find out the correlation between features. Unfortunately, there is no meaningful correlations found. The second approach is to smooth any feature that is very extreme, thus, Sale_info5 is being normalized with MinMax scaler.\n",
    "\n",
    "<br>\n",
    "\n",
    "There are numerous way to classifiy a dataset, all of them have different approach and features that suit centain kind of dataset. Random forest and Decision Tree are the best candidate for this dataset after different classification is being scored.\n",
    "\n",
    "<br>\n",
    "\n",
    "Visualization data assist my process of finding the best classification in this assignment."
   ]
  }
 ],
 "metadata": {
  "kernelspec": {
   "display_name": "Python 3",
   "language": "python",
   "name": "python3"
  },
  "language_info": {
   "codemirror_mode": {
    "name": "ipython",
    "version": 3
   },
   "file_extension": ".py",
   "mimetype": "text/x-python",
   "name": "python",
   "nbconvert_exporter": "python",
   "pygments_lexer": "ipython3",
   "version": "3.7.3"
  }
 },
 "nbformat": 4,
 "nbformat_minor": 5
}
