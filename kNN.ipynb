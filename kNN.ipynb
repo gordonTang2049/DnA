{
 "cells": [
  {
   "cell_type": "markdown",
   "metadata": {},
   "source": [
    "# Evaluating classifiers and k-NN classifiers\n",
    "\n",
    "This week we'll look at training a k-nearest neighbour classifier and at some of the ways we can evaluate classifiers.\n",
    "\n",
    "First, let's train a k-nearest neighbour classifier on one of the files we used this week. First off, let's import the packages we want and load the data file as we have done previously. Then we'll take a look with `head()` to see if it looks ok.\n",
    "\n",
    "**Remember to change `DATAFILE` below**"
   ]
  },
  {
   "cell_type": "code",
   "execution_count": 3,
   "metadata": {},
   "outputs": [],
   "source": [
    "import sklearn as sk\n",
    "import pandas as pd\n",
    "\n",
    "DATAFILE = '/Users/990679/OneDrive - UTS/uni/teaching/IDA20S/lectures/week8/balanced.csv'\n",
    "balanced = pd.read_csv(DATAFILE)"
   ]
  },
  {
   "cell_type": "code",
   "execution_count": 4,
   "metadata": {},
   "outputs": [
    {
     "data": {
      "text/html": [
       "<div>\n",
       "<style scoped>\n",
       "    .dataframe tbody tr th:only-of-type {\n",
       "        vertical-align: middle;\n",
       "    }\n",
       "\n",
       "    .dataframe tbody tr th {\n",
       "        vertical-align: top;\n",
       "    }\n",
       "\n",
       "    .dataframe thead th {\n",
       "        text-align: right;\n",
       "    }\n",
       "</style>\n",
       "<table border=\"1\" class=\"dataframe\">\n",
       "  <thead>\n",
       "    <tr style=\"text-align: right;\">\n",
       "      <th></th>\n",
       "      <th>ID</th>\n",
       "      <th>LIMIT_BAL</th>\n",
       "      <th>SEX</th>\n",
       "      <th>EDUCATION</th>\n",
       "      <th>MARRIAGE</th>\n",
       "      <th>AGE</th>\n",
       "      <th>PAY_0</th>\n",
       "      <th>PAY_2</th>\n",
       "      <th>PAY_3</th>\n",
       "      <th>PAY_4</th>\n",
       "      <th>...</th>\n",
       "      <th>BILL_AMT4</th>\n",
       "      <th>BILL_AMT5</th>\n",
       "      <th>BILL_AMT6</th>\n",
       "      <th>PAY_AMT1</th>\n",
       "      <th>PAY_AMT2</th>\n",
       "      <th>PAY_AMT3</th>\n",
       "      <th>PAY_AMT4</th>\n",
       "      <th>PAY_AMT5</th>\n",
       "      <th>PAY_AMT6</th>\n",
       "      <th>default payment next month</th>\n",
       "    </tr>\n",
       "  </thead>\n",
       "  <tbody>\n",
       "    <tr>\n",
       "      <th>0</th>\n",
       "      <td>19144</td>\n",
       "      <td>140000</td>\n",
       "      <td>2</td>\n",
       "      <td>2</td>\n",
       "      <td>2</td>\n",
       "      <td>31</td>\n",
       "      <td>0</td>\n",
       "      <td>0</td>\n",
       "      <td>0</td>\n",
       "      <td>0</td>\n",
       "      <td>...</td>\n",
       "      <td>140254</td>\n",
       "      <td>139679</td>\n",
       "      <td>141748</td>\n",
       "      <td>6400</td>\n",
       "      <td>6600</td>\n",
       "      <td>6500</td>\n",
       "      <td>5100</td>\n",
       "      <td>5300</td>\n",
       "      <td>6000</td>\n",
       "      <td>0</td>\n",
       "    </tr>\n",
       "    <tr>\n",
       "      <th>1</th>\n",
       "      <td>17658</td>\n",
       "      <td>80000</td>\n",
       "      <td>2</td>\n",
       "      <td>2</td>\n",
       "      <td>1</td>\n",
       "      <td>40</td>\n",
       "      <td>0</td>\n",
       "      <td>0</td>\n",
       "      <td>0</td>\n",
       "      <td>0</td>\n",
       "      <td>...</td>\n",
       "      <td>21604</td>\n",
       "      <td>22035</td>\n",
       "      <td>22496</td>\n",
       "      <td>2072</td>\n",
       "      <td>1651</td>\n",
       "      <td>1359</td>\n",
       "      <td>790</td>\n",
       "      <td>817</td>\n",
       "      <td>821</td>\n",
       "      <td>0</td>\n",
       "    </tr>\n",
       "    <tr>\n",
       "      <th>2</th>\n",
       "      <td>9386</td>\n",
       "      <td>10000</td>\n",
       "      <td>2</td>\n",
       "      <td>3</td>\n",
       "      <td>1</td>\n",
       "      <td>42</td>\n",
       "      <td>2</td>\n",
       "      <td>0</td>\n",
       "      <td>0</td>\n",
       "      <td>0</td>\n",
       "      <td>...</td>\n",
       "      <td>9604</td>\n",
       "      <td>9800</td>\n",
       "      <td>0</td>\n",
       "      <td>1228</td>\n",
       "      <td>1000</td>\n",
       "      <td>192</td>\n",
       "      <td>196</td>\n",
       "      <td>0</td>\n",
       "      <td>8138</td>\n",
       "      <td>1</td>\n",
       "    </tr>\n",
       "    <tr>\n",
       "      <th>3</th>\n",
       "      <td>25391</td>\n",
       "      <td>220000</td>\n",
       "      <td>2</td>\n",
       "      <td>2</td>\n",
       "      <td>2</td>\n",
       "      <td>29</td>\n",
       "      <td>0</td>\n",
       "      <td>0</td>\n",
       "      <td>2</td>\n",
       "      <td>0</td>\n",
       "      <td>...</td>\n",
       "      <td>39770</td>\n",
       "      <td>31840</td>\n",
       "      <td>33173</td>\n",
       "      <td>6000</td>\n",
       "      <td>2</td>\n",
       "      <td>3006</td>\n",
       "      <td>2000</td>\n",
       "      <td>2000</td>\n",
       "      <td>1500</td>\n",
       "      <td>0</td>\n",
       "    </tr>\n",
       "    <tr>\n",
       "      <th>4</th>\n",
       "      <td>1697</td>\n",
       "      <td>20000</td>\n",
       "      <td>1</td>\n",
       "      <td>2</td>\n",
       "      <td>1</td>\n",
       "      <td>35</td>\n",
       "      <td>1</td>\n",
       "      <td>2</td>\n",
       "      <td>2</td>\n",
       "      <td>0</td>\n",
       "      <td>...</td>\n",
       "      <td>20427</td>\n",
       "      <td>19377</td>\n",
       "      <td>19386</td>\n",
       "      <td>1000</td>\n",
       "      <td>1000</td>\n",
       "      <td>1000</td>\n",
       "      <td>1500</td>\n",
       "      <td>900</td>\n",
       "      <td>1000</td>\n",
       "      <td>1</td>\n",
       "    </tr>\n",
       "  </tbody>\n",
       "</table>\n",
       "<p>5 rows × 25 columns</p>\n",
       "</div>"
      ],
      "text/plain": [
       "      ID  LIMIT_BAL  SEX  EDUCATION  MARRIAGE  AGE  PAY_0  PAY_2  PAY_3  \\\n",
       "0  19144     140000    2          2         2   31      0      0      0   \n",
       "1  17658      80000    2          2         1   40      0      0      0   \n",
       "2   9386      10000    2          3         1   42      2      0      0   \n",
       "3  25391     220000    2          2         2   29      0      0      2   \n",
       "4   1697      20000    1          2         1   35      1      2      2   \n",
       "\n",
       "   PAY_4  ...  BILL_AMT4  BILL_AMT5  BILL_AMT6  PAY_AMT1  PAY_AMT2  PAY_AMT3  \\\n",
       "0      0  ...     140254     139679     141748      6400      6600      6500   \n",
       "1      0  ...      21604      22035      22496      2072      1651      1359   \n",
       "2      0  ...       9604       9800          0      1228      1000       192   \n",
       "3      0  ...      39770      31840      33173      6000         2      3006   \n",
       "4      0  ...      20427      19377      19386      1000      1000      1000   \n",
       "\n",
       "   PAY_AMT4  PAY_AMT5  PAY_AMT6  default payment next month  \n",
       "0      5100      5300      6000                           0  \n",
       "1       790       817       821                           0  \n",
       "2       196         0      8138                           1  \n",
       "3      2000      2000      1500                           0  \n",
       "4      1500       900      1000                           1  \n",
       "\n",
       "[5 rows x 25 columns]"
      ]
     },
     "execution_count": 4,
     "metadata": {},
     "output_type": "execute_result"
    }
   ],
   "source": [
    "balanced.head()"
   ]
  },
  {
   "cell_type": "markdown",
   "metadata": {},
   "source": [
    "Let's now split the data into an `X` and `y` (`default payment next month` is the target class) and then create a training and test split."
   ]
  },
  {
   "cell_type": "code",
   "execution_count": 142,
   "metadata": {},
   "outputs": [
    {
     "name": "stdout",
     "output_type": "stream",
     "text": [
      "X_train: (1400, 24)\n",
      "y_train: (1400,)\n",
      "X_test: (600, 24)\n",
      "y_test: (600,)\n"
     ]
    }
   ],
   "source": [
    "# Split into the attributes and the target. Uses python multiple assignment statement. \n",
    "X, y = balanced.iloc[:,:-1], balanced.iloc[:,-1]\n",
    "#X.head()\n",
    "#y.head()\n",
    "\n",
    "# Now split these into a training / test split\n",
    "from sklearn.model_selection import train_test_split\n",
    "X_train, X_test, y_train, y_test = train_test_split(X, y, test_size=0.3)\n",
    "\n",
    "# More pandas functions ...\n",
    "# info() gives a summary of the DataFrame or Series\n",
    "# shape attribute gives the number of rows and columns\n",
    "\n",
    "# X_train.info()\n",
    "# X_train.shape\n",
    "\n",
    "print('X_train:', X_train.shape)\n",
    "print('y_train:', y_train.shape)\n",
    "print('X_test:', X_test.shape)\n",
    "print('y_test:', y_test.shape)"
   ]
  },
  {
   "cell_type": "markdown",
   "metadata": {},
   "source": [
    "# k-NN classifier\n",
    "\n",
    "There are several variants of kNN in scikit-learn. You can read about them here: https://scikit-learn.org/stable/modules/neighbors.html\n",
    "\n",
    "We're going to use `sklearn.neighbors.KNeighborsClassifier` because we want to do classification. There are also approaches for regression and various tweaks for calculatiing the neighbours in an efficient manner. We'll just use the default parameters for everything except the number of neighbours and then `fit` the data to the classifier."
   ]
  },
  {
   "cell_type": "code",
   "execution_count": 144,
   "metadata": {},
   "outputs": [
    {
     "data": {
      "text/plain": [
       "array([0, 1])"
      ]
     },
     "execution_count": 144,
     "metadata": {},
     "output_type": "execute_result"
    }
   ],
   "source": [
    "from sklearn.neighbors import KNeighborsClassifier\n",
    "\n",
    "# Construct a kNN classifier. Note there is a default value for the number of neighbours, but we'll change it.\n",
    "clf = KNeighborsClassifier(n_neighbors = 5)\n",
    "clf.fit(X_train, y_train)\n",
    "\n",
    "# print the potential classes \n",
    "clf.classes_"
   ]
  },
  {
   "cell_type": "markdown",
   "metadata": {},
   "source": [
    "Let's look at the classifier, then look at the prediction for a particular point in the test set."
   ]
  },
  {
   "cell_type": "code",
   "execution_count": 145,
   "metadata": {},
   "outputs": [
    {
     "name": "stdout",
     "output_type": "stream",
     "text": [
      "Testing point 4 ; predicted as 1 ; actually 1 ; probabilities [0.2 0.8]\n"
     ]
    }
   ],
   "source": [
    "# We can print the classifier like this.\n",
    "# clf\n",
    "\n",
    "# Let's look at one specific prediction.\n",
    "test_idx = 4\n",
    "test_point = X_test.iloc[test_idx]\n",
    "\n",
    "pred_test = clf.predict([test_point])\n",
    "pred_test_probs = clf.predict_proba([test_point])\n",
    "\n",
    "print(\"Testing point\", test_idx, \"; predicted as\", pred_test[0],\n",
    "      \"; actually\", y_test.iloc[test_idx], \"; probabilities\", pred_test_probs[0])"
   ]
  },
  {
   "cell_type": "markdown",
   "metadata": {},
   "source": [
    "Like we did last week, let's make predictions for the test partition, then display and plot a confusion matrix. Note: this time we normalise the plotted confusion matrix for something different. "
   ]
  },
  {
   "cell_type": "code",
   "execution_count": 146,
   "metadata": {},
   "outputs": [
    {
     "name": "stdout",
     "output_type": "stream",
     "text": [
      "[[145 147]\n",
      " [114 194]]\n"
     ]
    },
    {
     "data": {
      "image/png": "[encoded data removed]",
      "text/plain": [
       "<Figure size 432x288 with 2 Axes>"
      ]
     },
     "metadata": {
      "needs_background": "light"
     },
     "output_type": "display_data"
    }
   ],
   "source": [
    "y_pred = clf.predict(X_test)\n",
    "\n",
    "# Confusion matrix\n",
    "from sklearn.metrics import confusion_matrix\n",
    "from sklearn.metrics import plot_confusion_matrix\n",
    "\n",
    "# normalize=\"all\" converts the raw numbers to proportions.\n",
    "# Can be used in both of the following functions.\n",
    "mat = confusion_matrix(y_test, y_pred)\n",
    "print(mat)\n",
    "\n",
    "plot_confusion_matrix(clf, X_test, y_test, normalize=\"all\");"
   ]
  },
  {
   "cell_type": "markdown",
   "metadata": {},
   "source": [
    "We can look at some other evaluation metrics that maybe make more sense.\n",
    "\n",
    "Btw, `score` can be used in many of the scikit classifiers. It works out the mean accuracy of the classifier given a test set."
   ]
  },
  {
   "cell_type": "code",
   "execution_count": 139,
   "metadata": {},
   "outputs": [
    {
     "data": {
      "text/plain": [
       "0.57"
      ]
     },
     "execution_count": 139,
     "metadata": {},
     "output_type": "execute_result"
    }
   ],
   "source": [
    "clf.score(X_test, y_test)"
   ]
  },
  {
   "cell_type": "markdown",
   "metadata": {},
   "source": [
    "The `classification_report` function gives an overall report, but you can get at each of the measures separately. See: https://scikit-learn.org/stable/modules/model_evaluation.html"
   ]
  },
  {
   "cell_type": "code",
   "execution_count": 140,
   "metadata": {},
   "outputs": [
    {
     "name": "stdout",
     "output_type": "stream",
     "text": [
      "              precision    recall  f1-score   support\n",
      "\n",
      "           0       0.61      0.50      0.55       314\n",
      "           1       0.54      0.65      0.59       286\n",
      "\n",
      "    accuracy                           0.57       600\n",
      "   macro avg       0.57      0.57      0.57       600\n",
      "weighted avg       0.58      0.57      0.57       600\n",
      "\n"
     ]
    }
   ],
   "source": [
    "from sklearn.metrics import classification_report\n",
    "print(classification_report(y_test, y_pred))"
   ]
  },
  {
   "cell_type": "markdown",
   "metadata": {},
   "source": [
    "Finally, let's plot the ROC curve and work out the AUC value. First we need to work out the probabilities for the positive class for each test point.\n",
    "\n",
    "Then we use the `roc_auc_score` function to work out the AUC value.\n",
    "\n",
    "Plotting the ROC curve is a bit more cumbersome. We use the `roc_curve` function to return the TPRs and FPRs corresponding to a set of decision thresholds. "
   ]
  },
  {
   "cell_type": "code",
   "execution_count": 153,
   "metadata": {},
   "outputs": [
    {
     "name": "stdout",
     "output_type": "stream",
     "text": [
      "The AUC is 0.582\n",
      "Threshold\tTPR vs FPR\n",
      "2.000\t0.000 vs 0.000\n",
      "1.000\t0.058 vs 0.055\n",
      "0.800\t0.344 vs 0.260\n",
      "0.600\t0.630 vs 0.503\n",
      "0.400\t0.860 vs 0.733\n",
      "0.200\t0.968 vs 0.914\n",
      "0.000\t1.000 vs 1.000\n"
     ]
    },
    {
     "data": {
      "image/png": "[encoded data removed]",
      "text/plain": [
       "<Figure size 432x288 with 1 Axes>"
      ]
     },
     "metadata": {
      "needs_background": "light"
     },
     "output_type": "display_data"
    }
   ],
   "source": [
    "from sklearn.metrics import roc_curve, roc_auc_score\n",
    "\n",
    "# Get the probabilities of each class.\n",
    "y_probs = clf.predict_proba(X_test)\n",
    "\n",
    "# The 'positive' class value is 1, so we want the probabilities of the class being 1.\n",
    "# i.e., the second column of the array.\n",
    "y_probs_class_1 = y_probs[:,1]\n",
    "\n",
    "auc = roc_auc_score(y_test, y_probs_class_1)\n",
    "print('The AUC is {:.3f}'.format(auc)) # uses string formatting to get 3 decimal places.\n",
    "\n",
    "fpr, tpr, thresholds = roc_curve(y_test, y_probs_class_1, pos_label=1)\n",
    "\n",
    "print(\"Threshold\\tTPR vs FPR\")\n",
    "for f, p, t in zip(fpr, tpr, thresholds):\n",
    "    print(\"{:.3f}\\t{:.3f} vs {:.3f}\".format(t, p, f))\n",
    "\n",
    "# Here is some code to plot the ROC curve.\n",
    "# Follows the example at https://scikit-learn.org/stable/auto_examples/model_selection/plot_roc.html#sphx-glr-auto-examples-model-selection-plot-roc-py\n",
    "\n",
    "import matplotlib.pyplot as plt\n",
    "plt.figure()\n",
    "lw = 2 # the line width\n",
    "plt.plot(fpr, tpr, color='darkorange',\n",
    "         lw=lw, label='ROC curve (area = %0.2f)' % auc)\n",
    "plt.plot([0, 1], [0, 1], color='navy', lw=lw, linestyle='--') # The dashed line for random choice\n",
    "plt.xlim([0.0, 1.0])\n",
    "plt.ylim([0.0, 1.05])\n",
    "plt.xlabel('False Positive Rate')\n",
    "plt.ylabel('True Positive Rate')\n",
    "plt.title('Receiver Operating Characteristic')\n",
    "plt.legend(loc=\"lower right\")\n",
    "plt.show()"
   ]
  },
  {
   "cell_type": "code",
   "execution_count": null,
   "metadata": {},
   "outputs": [],
   "source": []
  },
  {
   "cell_type": "code",
   "execution_count": null,
   "metadata": {},
   "outputs": [],
   "source": []
  }
 ],
 "metadata": {
  "kernelspec": {
   "display_name": "Python 3",
   "language": "python",
   "name": "python3"
  },
  "language_info": {
   "codemirror_mode": {
    "name": "ipython",
    "version": 3
   },
   "file_extension": ".py",
   "mimetype": "text/x-python",
   "name": "python",
   "nbconvert_exporter": "python",
   "pygments_lexer": "ipython3",
   "version": "3.7.3"
  }
 },
 "nbformat": 4,
 "nbformat_minor": 4
}
