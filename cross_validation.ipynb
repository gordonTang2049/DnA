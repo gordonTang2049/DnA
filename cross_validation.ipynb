{
 "cells": [
  {
   "cell_type": "code",
   "execution_count": 6,
   "id": "0169b6bf",
   "metadata": {},
   "outputs": [],
   "source": [
    "import pandas as pd\n",
    "import numpy as np\n",
    "from sklearn.preprocessing import LabelEncoder\n",
    "from sklearn.model_selection import StratifiedKFold\n",
    "from sklearn.model_selection import cross_val_score\n",
    "from sklearn import tree"
   ]
  },
  {
   "cell_type": "code",
   "execution_count": 4,
   "id": "c961fb5b",
   "metadata": {},
   "outputs": [],
   "source": [
    "PATH = '~/local_workplace/schworks/32130_funDataAna/assignment/a3_data_mining/Assignment3-TrainingData.csv'\n",
    "df = pd.read_csv(PATH)\n",
    "# Drop empty rows\n",
    "df = df.dropna(subset=['Personal_info5', 'Personal_info1'])\n",
    "# Drop irrelvant Column for Dtree CLassifier\n",
    "df = df.drop(columns=['Quote_Id','Quote_Date'])\n",
    "inputs = df.drop('Quote_Flag', axis='columns')\n",
    "tagert = df['Quote_Flag']\n",
    "# inputs.columns"
   ]
  },
  {
   "cell_type": "code",
   "execution_count": 5,
   "id": "e3d6f40a",
   "metadata": {},
   "outputs": [],
   "source": [
    "label_Field1 = LabelEncoder()\n",
    "label_Field4 = LabelEncoder()\n",
    "label_Coverage3 = LabelEncoder()\n",
    "label_Sales4 = LabelEncoder()\n",
    "label_Personal1 = LabelEncoder()\n",
    "label_Personal3 = LabelEncoder()\n",
    "label_Property1 = LabelEncoder()\n",
    "label_Property3 = LabelEncoder()\n",
    "label_Property5 = LabelEncoder()\n",
    "label_Geographic4 = LabelEncoder()\n",
    "label_Geographic5 = LabelEncoder()\n",
    "\n",
    "inputs['Field1_n'] = label_Field1.fit_transform(inputs['Field_info1'])\n",
    "inputs['Field3_n'] = label_Field1.fit_transform(inputs['Field_info3'])\n",
    "inputs['Field4_n'] = label_Field4.fit_transform(inputs['Field_info4'])\n",
    "inputs['Coverage3_n'] = label_Coverage3.fit_transform(inputs['Coverage_info3'])\n",
    "inputs['Sales4_n'] = label_Sales4.fit_transform(inputs['Sales_info4'])\n",
    "inputs['Personal1_n'] = label_Personal1.fit_transform(inputs['Personal_info1'])\n",
    "inputs['Personal3_n'] = label_Personal3.fit_transform(inputs['Personal_info3'])\n",
    "inputs['Property1_n'] = label_Property1.fit_transform(inputs['Property_info1'])\n",
    "inputs['Property3_n'] = label_Property3.fit_transform(inputs['Property_info3'])\n",
    "inputs['Property5_n'] = label_Property5.fit_transform(inputs['Property_info5'])\n",
    "inputs['Geographic4_n'] = label_Geographic4.fit_transform(inputs['Geographic_info4'])\n",
    "inputs['Geographic5_n'] = label_Geographic5.fit_transform(inputs['Geographic_info5'])\n",
    "\n",
    "inputs_n = inputs.drop([\n",
    "    'Field_info1',\n",
    "    'Field_info3',\n",
    "    'Field_info4',\n",
    "    'Coverage_info3',\n",
    "    'Sales_info4',\n",
    "    'Personal_info1',\n",
    "        'Personal_info3',\n",
    "        'Property_info1',\n",
    "        'Property_info3',\n",
    "        'Property_info5',\n",
    "    'Geographic_info4',\n",
    "    'Geographic_info5'\n",
    "], axis='columns')"
   ]
  },
  {
   "cell_type": "code",
   "execution_count": 8,
   "id": "9f397d88",
   "metadata": {},
   "outputs": [],
   "source": [
    "cv = StratifiedKFold(n_splits=10)\n",
    "dt = tree.DecisionTreeClassifier(criterion='entropy')"
   ]
  },
  {
   "cell_type": "code",
   "execution_count": 9,
   "id": "828cc5ab",
   "metadata": {},
   "outputs": [
    {
     "data": {
      "text/plain": [
       "array([0.81269067, 0.82422948, 0.81873665, 0.80683552, 0.81385413,\n",
       "       0.81660055, 0.82819652, 0.83216356, 0.83887702, 0.83948734])"
      ]
     },
     "execution_count": 9,
     "metadata": {},
     "output_type": "execute_result"
    }
   ],
   "source": [
    "cross_val_score(dt,inputs_n, tagert, cv=cv)"
   ]
  },
  {
   "cell_type": "code",
   "execution_count": 14,
   "id": "534e4685",
   "metadata": {},
   "outputs": [
    {
     "ename": "KeyError",
     "evalue": "\"None of [Int64Index([ 3003,  3011,  3017,  3019,  3040,  3041,  3056,  3058,  3059,\\n             3061,\\n            ...\\n            32761, 32762, 32763, 32764, 32765, 32766, 32767, 32768, 32769,\\n            32770],\\n           dtype='int64', length=29493)] are in the [columns]\"",
     "output_type": "error",
     "traceback": [
      "\u001b[0;31m---------------------------------------------------------------------------\u001b[0m",
      "\u001b[0;31mKeyError\u001b[0m                                  Traceback (most recent call last)",
      "\u001b[0;32m<ipython-input-14-3018fc2b7e2c>\u001b[0m in \u001b[0;36m<module>\u001b[0;34m\u001b[0m\n\u001b[1;32m      1\u001b[0m \u001b[0;32mfor\u001b[0m \u001b[0mtrain_index\u001b[0m\u001b[0;34m,\u001b[0m \u001b[0mtest_index\u001b[0m \u001b[0;32min\u001b[0m \u001b[0mcv\u001b[0m\u001b[0;34m.\u001b[0m\u001b[0msplit\u001b[0m\u001b[0;34m(\u001b[0m\u001b[0minputs_n\u001b[0m\u001b[0;34m,\u001b[0m \u001b[0mtagert\u001b[0m\u001b[0;34m)\u001b[0m\u001b[0;34m:\u001b[0m\u001b[0;34m\u001b[0m\u001b[0;34m\u001b[0m\u001b[0m\n\u001b[1;32m      2\u001b[0m     X_train, X_test, y_train, y_test = (\n\u001b[0;32m----> 3\u001b[0;31m                     \u001b[0minputs_n\u001b[0m\u001b[0;34m[\u001b[0m\u001b[0mtrain_index\u001b[0m\u001b[0;34m]\u001b[0m\u001b[0;34m,\u001b[0m\u001b[0;34m\u001b[0m\u001b[0;34m\u001b[0m\u001b[0m\n\u001b[0m\u001b[1;32m      4\u001b[0m                     \u001b[0minputs_n\u001b[0m\u001b[0;34m[\u001b[0m\u001b[0mtest_index\u001b[0m\u001b[0;34m]\u001b[0m\u001b[0;34m,\u001b[0m\u001b[0;34m\u001b[0m\u001b[0;34m\u001b[0m\u001b[0m\n\u001b[1;32m      5\u001b[0m                     \u001b[0mtagert\u001b[0m\u001b[0;34m[\u001b[0m\u001b[0mtrain_index\u001b[0m\u001b[0;34m]\u001b[0m\u001b[0;34m,\u001b[0m\u001b[0;34m\u001b[0m\u001b[0;34m\u001b[0m\u001b[0m\n",
      "\u001b[0;32m~/anaconda3/lib/python3.7/site-packages/pandas/core/frame.py\u001b[0m in \u001b[0;36m__getitem__\u001b[0;34m(self, key)\u001b[0m\n\u001b[1;32m   3028\u001b[0m             \u001b[0;32mif\u001b[0m \u001b[0mis_iterator\u001b[0m\u001b[0;34m(\u001b[0m\u001b[0mkey\u001b[0m\u001b[0;34m)\u001b[0m\u001b[0;34m:\u001b[0m\u001b[0;34m\u001b[0m\u001b[0;34m\u001b[0m\u001b[0m\n\u001b[1;32m   3029\u001b[0m                 \u001b[0mkey\u001b[0m \u001b[0;34m=\u001b[0m \u001b[0mlist\u001b[0m\u001b[0;34m(\u001b[0m\u001b[0mkey\u001b[0m\u001b[0;34m)\u001b[0m\u001b[0;34m\u001b[0m\u001b[0;34m\u001b[0m\u001b[0m\n\u001b[0;32m-> 3030\u001b[0;31m             \u001b[0mindexer\u001b[0m \u001b[0;34m=\u001b[0m \u001b[0mself\u001b[0m\u001b[0;34m.\u001b[0m\u001b[0mloc\u001b[0m\u001b[0;34m.\u001b[0m\u001b[0m_get_listlike_indexer\u001b[0m\u001b[0;34m(\u001b[0m\u001b[0mkey\u001b[0m\u001b[0;34m,\u001b[0m \u001b[0maxis\u001b[0m\u001b[0;34m=\u001b[0m\u001b[0;36m1\u001b[0m\u001b[0;34m,\u001b[0m \u001b[0mraise_missing\u001b[0m\u001b[0;34m=\u001b[0m\u001b[0;32mTrue\u001b[0m\u001b[0;34m)\u001b[0m\u001b[0;34m[\u001b[0m\u001b[0;36m1\u001b[0m\u001b[0;34m]\u001b[0m\u001b[0;34m\u001b[0m\u001b[0;34m\u001b[0m\u001b[0m\n\u001b[0m\u001b[1;32m   3031\u001b[0m \u001b[0;34m\u001b[0m\u001b[0m\n\u001b[1;32m   3032\u001b[0m         \u001b[0;31m# take() does not accept boolean indexers\u001b[0m\u001b[0;34m\u001b[0m\u001b[0;34m\u001b[0m\u001b[0;34m\u001b[0m\u001b[0m\n",
      "\u001b[0;32m~/anaconda3/lib/python3.7/site-packages/pandas/core/indexing.py\u001b[0m in \u001b[0;36m_get_listlike_indexer\u001b[0;34m(self, key, axis, raise_missing)\u001b[0m\n\u001b[1;32m   1264\u001b[0m             \u001b[0mkeyarr\u001b[0m\u001b[0;34m,\u001b[0m \u001b[0mindexer\u001b[0m\u001b[0;34m,\u001b[0m \u001b[0mnew_indexer\u001b[0m \u001b[0;34m=\u001b[0m \u001b[0max\u001b[0m\u001b[0;34m.\u001b[0m\u001b[0m_reindex_non_unique\u001b[0m\u001b[0;34m(\u001b[0m\u001b[0mkeyarr\u001b[0m\u001b[0;34m)\u001b[0m\u001b[0;34m\u001b[0m\u001b[0;34m\u001b[0m\u001b[0m\n\u001b[1;32m   1265\u001b[0m \u001b[0;34m\u001b[0m\u001b[0m\n\u001b[0;32m-> 1266\u001b[0;31m         \u001b[0mself\u001b[0m\u001b[0;34m.\u001b[0m\u001b[0m_validate_read_indexer\u001b[0m\u001b[0;34m(\u001b[0m\u001b[0mkeyarr\u001b[0m\u001b[0;34m,\u001b[0m \u001b[0mindexer\u001b[0m\u001b[0;34m,\u001b[0m \u001b[0maxis\u001b[0m\u001b[0;34m,\u001b[0m \u001b[0mraise_missing\u001b[0m\u001b[0;34m=\u001b[0m\u001b[0mraise_missing\u001b[0m\u001b[0;34m)\u001b[0m\u001b[0;34m\u001b[0m\u001b[0;34m\u001b[0m\u001b[0m\n\u001b[0m\u001b[1;32m   1267\u001b[0m         \u001b[0;32mreturn\u001b[0m \u001b[0mkeyarr\u001b[0m\u001b[0;34m,\u001b[0m \u001b[0mindexer\u001b[0m\u001b[0;34m\u001b[0m\u001b[0;34m\u001b[0m\u001b[0m\n\u001b[1;32m   1268\u001b[0m \u001b[0;34m\u001b[0m\u001b[0m\n",
      "\u001b[0;32m~/anaconda3/lib/python3.7/site-packages/pandas/core/indexing.py\u001b[0m in \u001b[0;36m_validate_read_indexer\u001b[0;34m(self, key, indexer, axis, raise_missing)\u001b[0m\n\u001b[1;32m   1306\u001b[0m             \u001b[0;32mif\u001b[0m \u001b[0mmissing\u001b[0m \u001b[0;34m==\u001b[0m \u001b[0mlen\u001b[0m\u001b[0;34m(\u001b[0m\u001b[0mindexer\u001b[0m\u001b[0;34m)\u001b[0m\u001b[0;34m:\u001b[0m\u001b[0;34m\u001b[0m\u001b[0;34m\u001b[0m\u001b[0m\n\u001b[1;32m   1307\u001b[0m                 \u001b[0maxis_name\u001b[0m \u001b[0;34m=\u001b[0m \u001b[0mself\u001b[0m\u001b[0;34m.\u001b[0m\u001b[0mobj\u001b[0m\u001b[0;34m.\u001b[0m\u001b[0m_get_axis_name\u001b[0m\u001b[0;34m(\u001b[0m\u001b[0maxis\u001b[0m\u001b[0;34m)\u001b[0m\u001b[0;34m\u001b[0m\u001b[0;34m\u001b[0m\u001b[0m\n\u001b[0;32m-> 1308\u001b[0;31m                 \u001b[0;32mraise\u001b[0m \u001b[0mKeyError\u001b[0m\u001b[0;34m(\u001b[0m\u001b[0;34mf\"None of [{key}] are in the [{axis_name}]\"\u001b[0m\u001b[0;34m)\u001b[0m\u001b[0;34m\u001b[0m\u001b[0;34m\u001b[0m\u001b[0m\n\u001b[0m\u001b[1;32m   1309\u001b[0m \u001b[0;34m\u001b[0m\u001b[0m\n\u001b[1;32m   1310\u001b[0m             \u001b[0max\u001b[0m \u001b[0;34m=\u001b[0m \u001b[0mself\u001b[0m\u001b[0;34m.\u001b[0m\u001b[0mobj\u001b[0m\u001b[0;34m.\u001b[0m\u001b[0m_get_axis\u001b[0m\u001b[0;34m(\u001b[0m\u001b[0maxis\u001b[0m\u001b[0;34m)\u001b[0m\u001b[0;34m\u001b[0m\u001b[0;34m\u001b[0m\u001b[0m\n",
      "\u001b[0;31mKeyError\u001b[0m: \"None of [Int64Index([ 3003,  3011,  3017,  3019,  3040,  3041,  3056,  3058,  3059,\\n             3061,\\n            ...\\n            32761, 32762, 32763, 32764, 32765, 32766, 32767, 32768, 32769,\\n            32770],\\n           dtype='int64', length=29493)] are in the [columns]\""
     ]
    }
   ],
   "source": [
    "for train_index, test_index in cv.split(inputs_n, tagert):\n",
    "    X_train, X_test, y_train, y_test = (\n",
    "                    inputs_n[train_index],\n",
    "                    inputs_n[test_index],\n",
    "                    tagert[train_index],\n",
    "                    tagert[test_index]\n",
    "                    )"
   ]
  },
  {
   "cell_type": "code",
   "execution_count": null,
   "id": "958dce14",
   "metadata": {},
   "outputs": [],
   "source": [
    "dt.fit(inputs_n_train, tagert_train)\n",
    "y_pred = dt.predict(inputs_n_test)\n",
    "\n",
    "dt.score(inputs_n_test, tagert_test)"
   ]
  },
  {
   "cell_type": "code",
   "execution_count": 4,
   "id": "b4c8ae79",
   "metadata": {},
   "outputs": [
    {
     "data": {
      "text/plain": [
       "148"
      ]
     },
     "execution_count": 4,
     "metadata": {},
     "output_type": "execute_result"
    }
   ],
   "source": []
  },
  {
   "cell_type": "code",
   "execution_count": 2,
   "id": "8b9f20d5",
   "metadata": {},
   "outputs": [
    {
     "data": {
      "text/plain": [
       "0.44680851063829785"
      ]
     },
     "execution_count": 2,
     "metadata": {},
     "output_type": "execute_result"
    }
   ],
   "source": []
  },
  {
   "cell_type": "code",
   "execution_count": 3,
   "id": "a6c522a1",
   "metadata": {},
   "outputs": [
    {
     "data": {
      "text/plain": [
       "417.20000000000005"
      ]
     },
     "execution_count": 3,
     "metadata": {},
     "output_type": "execute_result"
    }
   ],
   "source": []
  },
  {
   "cell_type": "code",
   "execution_count": null,
   "id": "14c7fe9c",
   "metadata": {},
   "outputs": [],
   "source": []
  },
  {
   "cell_type": "code",
   "execution_count": null,
   "id": "de494dd8",
   "metadata": {},
   "outputs": [],
   "source": []
  },
  {
   "cell_type": "code",
   "execution_count": null,
   "id": "60c68098",
   "metadata": {},
   "outputs": [],
   "source": []
  },
  {
   "cell_type": "code",
   "execution_count": null,
   "id": "549f3bce",
   "metadata": {},
   "outputs": [],
   "source": []
  },
  {
   "cell_type": "code",
   "execution_count": null,
   "id": "2e6c038c",
   "metadata": {},
   "outputs": [],
   "source": []
  },
  {
   "cell_type": "code",
   "execution_count": null,
   "id": "1f8fb6d8",
   "metadata": {},
   "outputs": [],
   "source": []
  },
  {
   "cell_type": "code",
   "execution_count": null,
   "id": "3a6bf18f",
   "metadata": {},
   "outputs": [],
   "source": []
  }
 ],
 "metadata": {
  "kernelspec": {
   "display_name": "Python 3",
   "language": "python",
   "name": "python3"
  },
  "language_info": {
   "codemirror_mode": {
    "name": "ipython",
    "version": 3
   },
   "file_extension": ".py",
   "mimetype": "text/x-python",
   "name": "python",
   "nbconvert_exporter": "python",
   "pygments_lexer": "ipython3",
   "version": "3.7.3"
  }
 },
 "nbformat": 4,
 "nbformat_minor": 5
}
