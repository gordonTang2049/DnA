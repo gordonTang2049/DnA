{
 "cells": [
  {
   "cell_type": "markdown",
   "metadata": {},
   "source": [
    "# Ensemble classifiers and Random Forest in particular\n",
    "\n",
    "This week we'll look at some of the ensemble classifiers in scikit-learn.\n",
    "\n",
    "We're going to train a RandomForestClassifier and an AdaBoost classifier. The first is a bagging classifier and the other is a boosted classifier.\n",
    "\n",
    "First off, let's import the packages we want and load the data file as we have done previously. Then we'll take a look with `head()` to see if it looks ok.\n",
    "\n",
    "**Remember to change `DATAFILE` below**"
   ]
  },
  {
   "cell_type": "code",
   "execution_count": 52,
   "metadata": {},
   "outputs": [],
   "source": [
    "import sklearn as sk\n",
    "import pandas as pd\n",
    "\n",
    "DATAFILE = '/Users/990679/OneDrive - UTS/uni/teaching/IDA20S/lectures/week7/iris.csv'\n",
    "iris = pd.read_csv(DATAFILE)"
   ]
  },
  {
   "cell_type": "code",
   "execution_count": 53,
   "metadata": {},
   "outputs": [
    {
     "data": {
      "text/html": [
       "<div>\n",
       "<style scoped>\n",
       "    .dataframe tbody tr th:only-of-type {\n",
       "        vertical-align: middle;\n",
       "    }\n",
       "\n",
       "    .dataframe tbody tr th {\n",
       "        vertical-align: top;\n",
       "    }\n",
       "\n",
       "    .dataframe thead th {\n",
       "        text-align: right;\n",
       "    }\n",
       "</style>\n",
       "<table border=\"1\" class=\"dataframe\">\n",
       "  <thead>\n",
       "    <tr style=\"text-align: right;\">\n",
       "      <th></th>\n",
       "      <th>Row</th>\n",
       "      <th>Sepal.Length</th>\n",
       "      <th>Sepal.Width</th>\n",
       "      <th>Petal.Length</th>\n",
       "      <th>Petal.Width</th>\n",
       "      <th>Species</th>\n",
       "    </tr>\n",
       "  </thead>\n",
       "  <tbody>\n",
       "    <tr>\n",
       "      <th>0</th>\n",
       "      <td>1</td>\n",
       "      <td>5.1</td>\n",
       "      <td>3.5</td>\n",
       "      <td>1.4</td>\n",
       "      <td>0.2</td>\n",
       "      <td>setosa</td>\n",
       "    </tr>\n",
       "    <tr>\n",
       "      <th>1</th>\n",
       "      <td>2</td>\n",
       "      <td>4.9</td>\n",
       "      <td>3.0</td>\n",
       "      <td>1.4</td>\n",
       "      <td>0.2</td>\n",
       "      <td>setosa</td>\n",
       "    </tr>\n",
       "    <tr>\n",
       "      <th>2</th>\n",
       "      <td>3</td>\n",
       "      <td>4.7</td>\n",
       "      <td>3.2</td>\n",
       "      <td>1.3</td>\n",
       "      <td>0.2</td>\n",
       "      <td>setosa</td>\n",
       "    </tr>\n",
       "    <tr>\n",
       "      <th>3</th>\n",
       "      <td>4</td>\n",
       "      <td>4.6</td>\n",
       "      <td>3.1</td>\n",
       "      <td>1.5</td>\n",
       "      <td>0.2</td>\n",
       "      <td>setosa</td>\n",
       "    </tr>\n",
       "    <tr>\n",
       "      <th>4</th>\n",
       "      <td>5</td>\n",
       "      <td>5.0</td>\n",
       "      <td>3.6</td>\n",
       "      <td>1.4</td>\n",
       "      <td>0.2</td>\n",
       "      <td>setosa</td>\n",
       "    </tr>\n",
       "  </tbody>\n",
       "</table>\n",
       "</div>"
      ],
      "text/plain": [
       "   Row  Sepal.Length  Sepal.Width  Petal.Length  Petal.Width Species\n",
       "0    1           5.1          3.5           1.4          0.2  setosa\n",
       "1    2           4.9          3.0           1.4          0.2  setosa\n",
       "2    3           4.7          3.2           1.3          0.2  setosa\n",
       "3    4           4.6          3.1           1.5          0.2  setosa\n",
       "4    5           5.0          3.6           1.4          0.2  setosa"
      ]
     },
     "execution_count": 53,
     "metadata": {},
     "output_type": "execute_result"
    }
   ],
   "source": [
    "iris.head()"
   ]
  },
  {
   "cell_type": "markdown",
   "metadata": {},
   "source": [
    "Let's now split the data into an `X` and `y` and then create a training and test split."
   ]
  },
  {
   "cell_type": "code",
   "execution_count": 54,
   "metadata": {},
   "outputs": [
    {
     "name": "stdout",
     "output_type": "stream",
     "text": [
      "X_train: (105, 4)\n",
      "y_train: (105,)\n",
      "X_test: (45, 4)\n",
      "y_test: (45,)\n"
     ]
    }
   ],
   "source": [
    "# Make the target numeric, and create training and test sets.\n",
    "targets = iris['Species'].unique()\n",
    "target2code = dict(zip(targets, range(len(targets))))\n",
    "\n",
    "X = iris.iloc[:,1:-1] # strip off the row number and target.\n",
    "y = iris.iloc[:,-1].copy() # don't want to overwrite the original \n",
    "y = y.apply(lambda x: target2code[x]) # convert each \n",
    "\n",
    "# Now split these into a training / test split\n",
    "from sklearn.model_selection import train_test_split\n",
    "X_train, X_test, y_train, y_test = train_test_split(X, y, test_size=0.3)\n",
    "\n",
    "print('X_train:', X_train.shape)\n",
    "print('y_train:', y_train.shape)\n",
    "print('X_test:', X_test.shape)\n",
    "print('y_test:', y_test.shape)"
   ]
  },
  {
   "cell_type": "markdown",
   "metadata": {},
   "source": [
    "# Ensemble classifiers\n",
    "\n",
    "There are several variants in scikit-learn. You can read about them here: https://scikit-learn.org/stable/modules/ensemble.html\n",
    "\n",
    "They split into bagged vs boosted ensembles. Let's look at two variants:\n",
    "* bagged decision trees - or random forests\n",
    "* boosted decision trees - or AdaBoost\n",
    "\n",
    "First we're going to use `sklearn.ensemble.RandomForestClassifier` because we want to do classification. We'll mostly just use the default parameters and then `fit` the data to the classifier. However, do look at the web page and have a play around.\n",
    "\n",
    "Some attributes to pass to the classifier of interest are:\n",
    "* `n_estimators` is the number of trees to build\n",
    "* `max_features` controls the number of attributes to select from in each tree\n",
    "* `oob_score=True` will get the classifier to calculate the out of bag score\n",
    "* `class_weights` controls how to deal with unbalanced datasets\n"
   ]
  },
  {
   "cell_type": "code",
   "execution_count": 55,
   "metadata": {},
   "outputs": [
    {
     "data": {
      "text/plain": [
       "RandomForestClassifier(n_estimators=50, oob_score=True)"
      ]
     },
     "execution_count": 55,
     "metadata": {},
     "output_type": "execute_result"
    }
   ],
   "source": [
    "from sklearn.ensemble import RandomForestClassifier\n",
    "\n",
    "# Construct a random forest classifier.\n",
    "clf = RandomForestClassifier(n_estimators = 50, max_features=\"auto\", oob_score=True)\n",
    "clf.fit(X_train, y_train)"
   ]
  },
  {
   "cell_type": "markdown",
   "metadata": {},
   "source": [
    "Let's look at the classifier, then look at the prediction for a particular point in the test set."
   ]
  },
  {
   "cell_type": "code",
   "execution_count": 56,
   "metadata": {},
   "outputs": [
    {
     "name": "stdout",
     "output_type": "stream",
     "text": [
      "RandomForestClassifier(n_estimators=50, oob_score=True)\n",
      "Feature importances are: [0.07317469 0.01549878 0.4118371  0.49948943]\n",
      "oob score is 0.962\n",
      "Testing point 20 ; predicted as 0 ; actually 0 ; probabilities [1. 0. 0.]\n"
     ]
    }
   ],
   "source": [
    "# We can print the classifier like this.\n",
    "print(clf)\n",
    "\n",
    "# The feature impartances can be accessed\n",
    "print(\"Feature importances are:\", clf.feature_importances_)\n",
    "\n",
    "# oob score\n",
    "print(\"oob score is {:.3f}\".format(clf.oob_score_))\n",
    "\n",
    "# Let's look at one specific prediction.\n",
    "test_idx = 20\n",
    "test_point = X_test.iloc[test_idx]\n",
    "\n",
    "pred_test = clf.predict([test_point])\n",
    "pred_test_probs = clf.predict_proba([test_point])\n",
    "\n",
    "print(\"Testing point\", test_idx, \"; predicted as\", pred_test[0],\n",
    "      \"; actually\", y_test.iloc[test_idx], \"; probabilities\", pred_test_probs[0])"
   ]
  },
  {
   "cell_type": "markdown",
   "metadata": {},
   "source": [
    "Like we did last week, let's make predictions for the test partition, print the classification report and the confusion matrix."
   ]
  },
  {
   "cell_type": "code",
   "execution_count": 57,
   "metadata": {},
   "outputs": [
    {
     "name": "stdout",
     "output_type": "stream",
     "text": [
      "              precision    recall  f1-score   support\n",
      "\n",
      "           0       1.00      1.00      1.00        18\n",
      "           1       0.83      0.91      0.87        11\n",
      "           2       0.93      0.88      0.90        16\n",
      "\n",
      "    accuracy                           0.93        45\n",
      "   macro avg       0.92      0.93      0.92        45\n",
      "weighted avg       0.94      0.93      0.93        45\n",
      "\n"
     ]
    },
    {
     "data": {
      "image/png": "[encoded data removed]",
      "text/plain": [
       "<Figure size 432x288 with 2 Axes>"
      ]
     },
     "metadata": {
      "needs_background": "light"
     },
     "output_type": "display_data"
    }
   ],
   "source": [
    "y_pred = clf.predict(X_test)\n",
    "\n",
    "# Confusion matrix\n",
    "from sklearn.metrics import confusion_matrix, plot_confusion_matrix, classification_report\n",
    "\n",
    "print(classification_report(y_test, y_pred))\n",
    "\n",
    "plot_confusion_matrix(clf, X_test, y_test);"
   ]
  },
  {
   "cell_type": "markdown",
   "metadata": {},
   "source": [
    "Finally, let's plot the ROC curve and work out the AUC value.\n",
    "\n",
    "Because `iris` is a multi-class problem it's a bit trickier. We're goint to try to plot an ROC curve for each class (one vs the rest). First we need to work out the probabilities for the classes for each test point.\n",
    "\n",
    "Then we use the `roc_auc_score` function to work out the AUC value.\n",
    "\n",
    "Plotting the ROC curve is a bit more cumbersome. We need to loop over each class and then use the `roc_curve` function to return the TPRs and FPRs corresponding to a set of decision thresholds for that class vs the rest."
   ]
  },
  {
   "cell_type": "code",
   "execution_count": 60,
   "metadata": {},
   "outputs": [
    {
     "name": "stdout",
     "output_type": "stream",
     "text": [
      "The AUC is 0.993\n"
     ]
    },
    {
     "data": {
      "image/png": "[encoded data removed]",
      "text/plain": [
       "<Figure size 432x288 with 1 Axes>"
      ]
     },
     "metadata": {
      "needs_background": "light"
     },
     "output_type": "display_data"
    }
   ],
   "source": [
    "from sklearn.metrics import roc_curve, roc_auc_score\n",
    "\n",
    "# Get the probabilities of each class.\n",
    "y_probs = clf.predict_proba(X_test)\n",
    "\n",
    "# The AUC score needs to be handled differently to get one number out of the three classes.\n",
    "# We're going to average it over the three classes (one vs rest) weighted by the size of each\n",
    "# class. The help gives the other option: ovo.\n",
    "#auc = roc_auc_score(y_test, y_probs_class_1, multi_class=\"ovo\", average=\"weighted\")\n",
    "auc = roc_auc_score(y_test, y_probs, multi_class=\"ovr\", average=\"weighted\")\n",
    "print('The AUC is %.3f' % auc)\n",
    "\n",
    "# Now let's plot the ROC curve.\n",
    "import matplotlib.pyplot as plt\n",
    "plt.figure()\n",
    "col = { 0: \"red\", 1: \"blue\", 2:\"darkorange\"} # colour for each class\n",
    "lw = 2 # the line width\n",
    "# draw a line for each class (as the positive class)\n",
    "for pos in range(3):\n",
    "    fpr, tpr, thresholds = roc_curve(y_test, y_probs[:,pos], pos_label=pos)\n",
    "    plt.plot(fpr, tpr, color=col[pos], lw=lw, label='%d' % pos)\n",
    "\n",
    "plt.plot([0, 1], [0, 1], color='navy', lw=lw, linestyle='--') # The dashed line for random choice\n",
    "plt.xlim([0.0, 1.0])\n",
    "plt.ylim([0.0, 1.05])\n",
    "plt.xlabel('False Positive Rate')\n",
    "plt.ylabel('True Positive Rate')\n",
    "plt.title('Receiver Operating Characteristic')\n",
    "plt.legend(loc=\"lower right\")\n",
    "plt.show()"
   ]
  },
  {
   "cell_type": "markdown",
   "metadata": {},
   "source": [
    "Now let's train an AdaBoost classifier. Details on the classifier are at: https://scikit-learn.org/stable/modules/ensemble.html#adaboost\n",
    "\n",
    "By default it makes an ensemble of decision stumps. We can set the number of trees in the ensemble using the `n_estimators` option. "
   ]
  },
  {
   "cell_type": "code",
   "execution_count": 61,
   "metadata": {},
   "outputs": [
    {
     "name": "stdout",
     "output_type": "stream",
     "text": [
      "              precision    recall  f1-score   support\n",
      "\n",
      "           0       1.00      1.00      1.00        18\n",
      "           1       0.83      0.91      0.87        11\n",
      "           2       0.93      0.88      0.90        16\n",
      "\n",
      "    accuracy                           0.93        45\n",
      "   macro avg       0.92      0.93      0.92        45\n",
      "weighted avg       0.94      0.93      0.93        45\n",
      "\n",
      "Feature importances are: [0.  0.  0.5 0.5]\n"
     ]
    },
    {
     "data": {
      "image/png": "[encoded data removed]",
      "text/plain": [
       "<Figure size 432x288 with 2 Axes>"
      ]
     },
     "metadata": {
      "needs_background": "light"
     },
     "output_type": "display_data"
    }
   ],
   "source": [
    "from sklearn.ensemble import AdaBoostClassifier\n",
    "\n",
    "# Construct an AdaBoost classifier. 10 classifiers would be a very small number. 100+ is more\n",
    "# typical.\n",
    "clf = AdaBoostClassifier(n_estimators=10)\n",
    "clf.fit(X_train, y_train)\n",
    "\n",
    "y_pred = clf.predict(X_test)\n",
    "\n",
    "# Output the performance\n",
    "from sklearn.metrics import confusion_matrix, plot_confusion_matrix, classification_report\n",
    "print(classification_report(y_test, y_pred))\n",
    "\n",
    "# The feature importances can be accessed\n",
    "print(\"Feature importances are:\", clf.feature_importances_)\n",
    "\n",
    "plot_confusion_matrix(clf, X_test, y_test);\n"
   ]
  }
 ],
 "metadata": {
  "kernelspec": {
   "display_name": "Python 3",
   "language": "python",
   "name": "python3"
  },
  "language_info": {
   "codemirror_mode": {
    "name": "ipython",
    "version": 3
   },
   "file_extension": ".py",
   "mimetype": "text/x-python",
   "name": "python",
   "nbconvert_exporter": "python",
   "pygments_lexer": "ipython3",
   "version": "3.7.3"
  }
 },
 "nbformat": 4,
 "nbformat_minor": 4
}
